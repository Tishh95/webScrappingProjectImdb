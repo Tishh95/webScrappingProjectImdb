{
 "cells": [
  {
   "cell_type": "code",
   "execution_count": 87,
   "id": "2df777c7",
   "metadata": {},
   "outputs": [],
   "source": [
    "from bs4 import BeautifulSoup as bs\n",
    "import requests, openpyxl\n",
    "import time\n",
    "import openpyxl"
   ]
  },
  {
   "cell_type": "markdown",
   "id": "a5c08b88",
   "metadata": {},
   "source": [
    "Import des librairies nécessaires "
   ]
  },
  {
   "cell_type": "code",
   "execution_count": 88,
   "id": "6d023153",
   "metadata": {},
   "outputs": [],
   "source": [
    "source = requests.get(\"https://www.imdb.com/chart/top/\")\n",
    "\n",
    "soup = bs(source.text, 'html.parser')\n",
    "\n",
    "movies = soup.find('tbody', class_=\"lister-list\").find_all('tr')"
   ]
  },
  {
   "cell_type": "markdown",
   "id": "52b64291",
   "metadata": {},
   "source": [
    "on récupère le lien de notre site"
   ]
  },
  {
   "cell_type": "code",
   "execution_count": 89,
   "id": "2fe48ee8",
   "metadata": {},
   "outputs": [],
   "source": [
    "excel = openpyxl.Workbook()\n",
    "sheet = excel.active\n",
    "sheet.title = 'top film'\n",
    "sheet.append(['name', 'rank' ,'year' ,'rating','crew'])"
   ]
  },
  {
   "cell_type": "code",
   "execution_count": 90,
   "id": "f756c510",
   "metadata": {},
   "outputs": [
    {
     "ename": "AttributeError",
     "evalue": "'NoneType' object has no attribute 'title'",
     "output_type": "error",
     "traceback": [
      "\u001b[0;31m---------------------------------------------------------------------------\u001b[0m",
      "\u001b[0;31mAttributeError\u001b[0m                            Traceback (most recent call last)",
      "Cell \u001b[0;32mIn [90], line 8\u001b[0m\n\u001b[1;32m      6\u001b[0m year \u001b[38;5;241m=\u001b[39m movie\u001b[38;5;241m.\u001b[39mfind(\u001b[38;5;124m'\u001b[39m\u001b[38;5;124mtd\u001b[39m\u001b[38;5;124m'\u001b[39m, class_\u001b[38;5;241m=\u001b[39m\u001b[38;5;124m\"\u001b[39m\u001b[38;5;124mtitleColumn\u001b[39m\u001b[38;5;124m\"\u001b[39m)\u001b[38;5;241m.\u001b[39mspan\u001b[38;5;241m.\u001b[39mtext\u001b[38;5;241m.\u001b[39mstrip(\u001b[38;5;124m'\u001b[39m\u001b[38;5;124m()\u001b[39m\u001b[38;5;124m'\u001b[39m)\n\u001b[1;32m      7\u001b[0m rating \u001b[38;5;241m=\u001b[39m movie\u001b[38;5;241m.\u001b[39mfind(\u001b[38;5;124m'\u001b[39m\u001b[38;5;124mtd\u001b[39m\u001b[38;5;124m'\u001b[39m, class_\u001b[38;5;241m=\u001b[39m\u001b[38;5;124m\"\u001b[39m\u001b[38;5;124mratingColumn imdbRating\u001b[39m\u001b[38;5;124m\"\u001b[39m)\u001b[38;5;241m.\u001b[39mstrong\u001b[38;5;241m.\u001b[39mtext\n\u001b[0;32m----> 8\u001b[0m crew \u001b[38;5;241m=\u001b[39m  \u001b[43mmovie\u001b[49m\u001b[38;5;241;43m.\u001b[39;49m\u001b[43mfind\u001b[49m\u001b[43m(\u001b[49m\u001b[38;5;124;43m'\u001b[39;49m\u001b[38;5;124;43mtd\u001b[39;49m\u001b[38;5;124;43m'\u001b[39;49m\u001b[43m,\u001b[49m\u001b[43m \u001b[49m\u001b[43mclass_\u001b[49m\u001b[38;5;241;43m=\u001b[39;49m\u001b[38;5;124;43m\"\u001b[39;49m\u001b[38;5;124;43mtitleColumn\u001b[39;49m\u001b[38;5;124;43m\"\u001b[39;49m\u001b[43m)\u001b[49m\u001b[38;5;241;43m.\u001b[39;49m\u001b[43ma\u001b[49m\u001b[38;5;241;43m.\u001b[39;49m\u001b[43mattr\u001b[49m\u001b[38;5;241;43m.\u001b[39;49m\u001b[43mtitle\u001b[49m\n\u001b[1;32m     10\u001b[0m sheet\u001b[38;5;241m.\u001b[39mappend([name,rank,year,rating,crew])\n",
      "\u001b[0;31mAttributeError\u001b[0m: 'NoneType' object has no attribute 'title'"
     ]
    }
   ],
   "source": [
    "names = []\n",
    "\n",
    "for movie in movies:\n",
    "            name = movie.find('td', class_=\"titleColumn\").a.text\n",
    "            rank = movie.find('td', class_=\"titleColumn\").get_text(strip=True).split('.')[0]\n",
    "            year = movie.find('td', class_=\"titleColumn\").span.text.strip('()')\n",
    "            rating = movie.find('td', class_=\"ratingColumn imdbRating\").strong.text\n",
    "            crew =  movie.find('td', class_=\"titleColumn\").a.attrs.get('title')\n",
    "        \n",
    "            sheet.append([name,rank,year,rating,crew])\n"
   ]
  },
  {
   "cell_type": "code",
   "execution_count": 84,
   "id": "83a8a963",
   "metadata": {},
   "outputs": [],
   "source": [
    "excel.save('movies.xlsx')"
   ]
  },
  {
   "cell_type": "code",
   "execution_count": 85,
   "id": "1b9c3d8e",
   "metadata": {},
   "outputs": [],
   "source": [
    "import pandas as pd"
   ]
  },
  {
   "cell_type": "code",
   "execution_count": 86,
   "id": "72391453",
   "metadata": {},
   "outputs": [
    {
     "data": {
      "text/html": [
       "<div>\n",
       "<style scoped>\n",
       "    .dataframe tbody tr th:only-of-type {\n",
       "        vertical-align: middle;\n",
       "    }\n",
       "\n",
       "    .dataframe tbody tr th {\n",
       "        vertical-align: top;\n",
       "    }\n",
       "\n",
       "    .dataframe thead th {\n",
       "        text-align: right;\n",
       "    }\n",
       "</style>\n",
       "<table border=\"1\" class=\"dataframe\">\n",
       "  <thead>\n",
       "    <tr style=\"text-align: right;\">\n",
       "      <th></th>\n",
       "      <th>name</th>\n",
       "      <th>rank</th>\n",
       "      <th>year</th>\n",
       "      <th>rating</th>\n",
       "      <th>crew</th>\n",
       "    </tr>\n",
       "  </thead>\n",
       "  <tbody>\n",
       "    <tr>\n",
       "      <th>0</th>\n",
       "      <td>Les Évadés</td>\n",
       "      <td>1</td>\n",
       "      <td>1994</td>\n",
       "      <td>9.2</td>\n",
       "      <td>NaN</td>\n",
       "    </tr>\n",
       "    <tr>\n",
       "      <th>1</th>\n",
       "      <td>Le Parrain</td>\n",
       "      <td>2</td>\n",
       "      <td>1972</td>\n",
       "      <td>9.2</td>\n",
       "      <td>NaN</td>\n",
       "    </tr>\n",
       "    <tr>\n",
       "      <th>2</th>\n",
       "      <td>The Dark Knight : Le Chevalier noir</td>\n",
       "      <td>3</td>\n",
       "      <td>2008</td>\n",
       "      <td>9.0</td>\n",
       "      <td>NaN</td>\n",
       "    </tr>\n",
       "    <tr>\n",
       "      <th>3</th>\n",
       "      <td>Le Parrain, 2ᵉ partie</td>\n",
       "      <td>4</td>\n",
       "      <td>1974</td>\n",
       "      <td>9.0</td>\n",
       "      <td>NaN</td>\n",
       "    </tr>\n",
       "    <tr>\n",
       "      <th>4</th>\n",
       "      <td>12 Hommes en colère</td>\n",
       "      <td>5</td>\n",
       "      <td>1957</td>\n",
       "      <td>9.0</td>\n",
       "      <td>NaN</td>\n",
       "    </tr>\n",
       "    <tr>\n",
       "      <th>...</th>\n",
       "      <td>...</td>\n",
       "      <td>...</td>\n",
       "      <td>...</td>\n",
       "      <td>...</td>\n",
       "      <td>...</td>\n",
       "    </tr>\n",
       "    <tr>\n",
       "      <th>245</th>\n",
       "      <td>Dersou Ouzala</td>\n",
       "      <td>246</td>\n",
       "      <td>1975</td>\n",
       "      <td>8.0</td>\n",
       "      <td>NaN</td>\n",
       "    </tr>\n",
       "    <tr>\n",
       "      <th>246</th>\n",
       "      <td>Aladdin</td>\n",
       "      <td>247</td>\n",
       "      <td>1992</td>\n",
       "      <td>8.0</td>\n",
       "      <td>NaN</td>\n",
       "    </tr>\n",
       "    <tr>\n",
       "      <th>247</th>\n",
       "      <td>La couleur des sentiments</td>\n",
       "      <td>248</td>\n",
       "      <td>2011</td>\n",
       "      <td>8.0</td>\n",
       "      <td>NaN</td>\n",
       "    </tr>\n",
       "    <tr>\n",
       "      <th>248</th>\n",
       "      <td>Gandhi</td>\n",
       "      <td>249</td>\n",
       "      <td>1982</td>\n",
       "      <td>8.0</td>\n",
       "      <td>NaN</td>\n",
       "    </tr>\n",
       "    <tr>\n",
       "      <th>249</th>\n",
       "      <td>Le géant de fer</td>\n",
       "      <td>250</td>\n",
       "      <td>1999</td>\n",
       "      <td>8.0</td>\n",
       "      <td>NaN</td>\n",
       "    </tr>\n",
       "  </tbody>\n",
       "</table>\n",
       "<p>250 rows × 5 columns</p>\n",
       "</div>"
      ],
      "text/plain": [
       "                                    name  rank  year  rating  crew\n",
       "0                             Les Évadés     1  1994     9.2   NaN\n",
       "1                             Le Parrain     2  1972     9.2   NaN\n",
       "2    The Dark Knight : Le Chevalier noir     3  2008     9.0   NaN\n",
       "3                  Le Parrain, 2ᵉ partie     4  1974     9.0   NaN\n",
       "4                    12 Hommes en colère     5  1957     9.0   NaN\n",
       "..                                   ...   ...   ...     ...   ...\n",
       "245                        Dersou Ouzala   246  1975     8.0   NaN\n",
       "246                              Aladdin   247  1992     8.0   NaN\n",
       "247            La couleur des sentiments   248  2011     8.0   NaN\n",
       "248                               Gandhi   249  1982     8.0   NaN\n",
       "249                      Le géant de fer   250  1999     8.0   NaN\n",
       "\n",
       "[250 rows x 5 columns]"
      ]
     },
     "execution_count": 86,
     "metadata": {},
     "output_type": "execute_result"
    }
   ],
   "source": [
    "df = pd.read_excel('movies.xlsx')\n",
    "df"
   ]
  },
  {
   "cell_type": "code",
   "execution_count": null,
   "id": "535c2916",
   "metadata": {},
   "outputs": [],
   "source": []
  },
  {
   "cell_type": "code",
   "execution_count": null,
   "id": "47814dd4",
   "metadata": {},
   "outputs": [],
   "source": []
  }
 ],
 "metadata": {
  "kernelspec": {
   "display_name": "Python 3 (ipykernel)",
   "language": "python",
   "name": "python3"
  },
  "language_info": {
   "codemirror_mode": {
    "name": "ipython",
    "version": 3
   },
   "file_extension": ".py",
   "mimetype": "text/x-python",
   "name": "python",
   "nbconvert_exporter": "python",
   "pygments_lexer": "ipython3",
   "version": "3.8.10"
  }
 },
 "nbformat": 4,
 "nbformat_minor": 5
}
